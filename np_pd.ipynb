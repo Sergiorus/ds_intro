{
 "cells": [
  {
   "cell_type": "markdown",
   "id": "af8fcf2d",
   "metadata": {},
   "source": [
    "![title](img/np_pd/skel.jpg)"
   ]
  },
  {
   "cell_type": "code",
   "execution_count": 1,
   "id": "bdb63c5c",
   "metadata": {},
   "outputs": [],
   "source": [
    "#!pip install numpy\n",
    "#!pip install pandas"
   ]
  },
  {
   "cell_type": "code",
   "execution_count": 3,
   "id": "467a9353",
   "metadata": {},
   "outputs": [],
   "source": [
    "import pandas as pd\n",
    "import numpy as np"
   ]
  },
  {
   "cell_type": "markdown",
   "id": "973d2dd2",
   "metadata": {},
   "source": [
    "## Почему numpy?\n",
    "\n",
    "1. Более компактное представление данных\n",
    "2. Большой спектр математических операций\n",
    "3. Более быстрая обработка информации"
   ]
  },
  {
   "cell_type": "markdown",
   "id": "940f9312",
   "metadata": {},
   "source": [
    "#### 1. Выведите версию библиотек numpy и pandas"
   ]
  },
  {
   "cell_type": "code",
   "execution_count": null,
   "id": "c749c7e7",
   "metadata": {},
   "outputs": [],
   "source": []
  },
  {
   "cell_type": "markdown",
   "id": "acd605b1",
   "metadata": {},
   "source": [
    "#### 3. Создайте нулевой вектор длины 9"
   ]
  },
  {
   "cell_type": "code",
   "execution_count": null,
   "id": "0aec5cbe",
   "metadata": {},
   "outputs": [],
   "source": []
  },
  {
   "cell_type": "code",
   "execution_count": null,
   "id": "9e8c957f",
   "metadata": {},
   "outputs": [],
   "source": []
  },
  {
   "cell_type": "code",
   "execution_count": null,
   "id": "99f93c4d",
   "metadata": {},
   "outputs": [],
   "source": []
  },
  {
   "cell_type": "markdown",
   "id": "734539e8",
   "metadata": {},
   "source": [
    "#### 4. Вывести размер любого массива"
   ]
  },
  {
   "cell_type": "code",
   "execution_count": null,
   "id": "63551a12",
   "metadata": {},
   "outputs": [],
   "source": []
  },
  {
   "cell_type": "markdown",
   "id": "e182c122",
   "metadata": {},
   "source": [
    "#### 5. Вывести информацию о функции (docstring)"
   ]
  },
  {
   "cell_type": "code",
   "execution_count": null,
   "id": "1c70d295",
   "metadata": {},
   "outputs": [],
   "source": []
  },
  {
   "cell_type": "markdown",
   "id": "17811d71",
   "metadata": {},
   "source": [
    "#### 6. Создать вектор длины 10 половина котрого заполнена 1"
   ]
  },
  {
   "cell_type": "code",
   "execution_count": null,
   "id": "c13bd1e6",
   "metadata": {},
   "outputs": [],
   "source": []
  },
  {
   "cell_type": "code",
   "execution_count": null,
   "id": "ec00dcc5",
   "metadata": {},
   "outputs": [],
   "source": []
  },
  {
   "cell_type": "markdown",
   "id": "0782247c",
   "metadata": {},
   "source": [
    "## 7. Создать матрицу 3x3 с диапазоном чисел от 0 до 8"
   ]
  },
  {
   "cell_type": "code",
   "execution_count": null,
   "id": "113d6130",
   "metadata": {},
   "outputs": [],
   "source": []
  },
  {
   "cell_type": "code",
   "execution_count": null,
   "id": "4ba1467d",
   "metadata": {},
   "outputs": [],
   "source": []
  },
  {
   "cell_type": "markdown",
   "id": "575581be",
   "metadata": {},
   "source": [
    "#### 8. Создать матрицу 3х3 с рандомным заполнением и найти максимальный и минимальный элемент"
   ]
  },
  {
   "cell_type": "code",
   "execution_count": null,
   "id": "9210c255",
   "metadata": {},
   "outputs": [],
   "source": []
  },
  {
   "cell_type": "code",
   "execution_count": null,
   "id": "18de42f8",
   "metadata": {},
   "outputs": [],
   "source": []
  },
  {
   "cell_type": "markdown",
   "id": "b6b26d1f",
   "metadata": {},
   "source": [
    "#### 9. Создать двумерный массив и сделать рамку из нулевых значений"
   ]
  },
  {
   "cell_type": "code",
   "execution_count": null,
   "id": "ecfe235c",
   "metadata": {},
   "outputs": [],
   "source": []
  },
  {
   "cell_type": "markdown",
   "id": "11455fe1",
   "metadata": {},
   "source": [
    "#### 10. Создать матрицу 8x8 и заполнить единицами в шахматном порядке"
   ]
  },
  {
   "cell_type": "code",
   "execution_count": null,
   "id": "af33fbfa",
   "metadata": {},
   "outputs": [],
   "source": []
  },
  {
   "cell_type": "markdown",
   "id": "b8130a1c",
   "metadata": {},
   "source": [
    "#### 11. Сделать свой тип данных, описывающий RGBA и заполнить ими матрицу"
   ]
  },
  {
   "cell_type": "code",
   "execution_count": null,
   "id": "427f9ed1",
   "metadata": {},
   "outputs": [],
   "source": []
  },
  {
   "cell_type": "markdown",
   "id": "de2d6983",
   "metadata": {},
   "source": [
    "#### 12. Найти все соответсвия между двумя массивами"
   ]
  },
  {
   "cell_type": "code",
   "execution_count": null,
   "id": "b2fa8f3b",
   "metadata": {},
   "outputs": [],
   "source": []
  },
  {
   "cell_type": "markdown",
   "id": "f816e0e1",
   "metadata": {},
   "source": [
    "#### 13. Создать вектор размером 10 и числами из диапазона от 0 до 1 не включая обе границы"
   ]
  },
  {
   "cell_type": "code",
   "execution_count": null,
   "id": "0f85ecad",
   "metadata": {},
   "outputs": [],
   "source": []
  },
  {
   "cell_type": "markdown",
   "id": "37d8159e",
   "metadata": {},
   "source": [
    "#### 14. Как вычислить ((A+B)*(-A/2)) без создания копий"
   ]
  },
  {
   "cell_type": "code",
   "execution_count": null,
   "id": "96a34710",
   "metadata": {},
   "outputs": [],
   "source": []
  },
  {
   "cell_type": "markdown",
   "id": "f619ba50",
   "metadata": {},
   "source": [
    "#### 15. Считать датасет"
   ]
  },
  {
   "cell_type": "code",
   "execution_count": null,
   "id": "1c6a7843",
   "metadata": {},
   "outputs": [],
   "source": []
  },
  {
   "cell_type": "markdown",
   "id": "d87f3978",
   "metadata": {},
   "source": [
    "#### 16. Получить информацию о размерах dataframe'а"
   ]
  },
  {
   "cell_type": "code",
   "execution_count": null,
   "id": "50c3c3ed",
   "metadata": {},
   "outputs": [],
   "source": []
  },
  {
   "cell_type": "markdown",
   "id": "96376285",
   "metadata": {},
   "source": [
    "#### 17. Получить информацию о колонках dataframe'а"
   ]
  },
  {
   "cell_type": "code",
   "execution_count": null,
   "id": "045960a1",
   "metadata": {},
   "outputs": [],
   "source": []
  },
  {
   "cell_type": "markdown",
   "id": "0a4b334e",
   "metadata": {},
   "source": [
    "#### 18. Вывести первые 5 записей"
   ]
  },
  {
   "cell_type": "code",
   "execution_count": null,
   "id": "9ce35c1d",
   "metadata": {},
   "outputs": [],
   "source": []
  },
  {
   "cell_type": "markdown",
   "id": "ecc0249f",
   "metadata": {},
   "source": [
    "#### 19. Вывести последние 5 записей"
   ]
  },
  {
   "cell_type": "code",
   "execution_count": null,
   "id": "0b23e6f4",
   "metadata": {},
   "outputs": [],
   "source": []
  },
  {
   "cell_type": "markdown",
   "id": "4ce62bf6",
   "metadata": {},
   "source": [
    "#### 20. Вывести n записей"
   ]
  },
  {
   "cell_type": "code",
   "execution_count": null,
   "id": "ed6cf244",
   "metadata": {},
   "outputs": [],
   "source": []
  },
  {
   "cell_type": "markdown",
   "id": "109513f8",
   "metadata": {},
   "source": [
    "#### 21. Вывести определенную колонку"
   ]
  },
  {
   "cell_type": "code",
   "execution_count": null,
   "id": "1970a302",
   "metadata": {},
   "outputs": [],
   "source": []
  },
  {
   "cell_type": "markdown",
   "id": "4e0b86d7",
   "metadata": {},
   "source": [
    "#### 22. Вывести информацию о dataframe'е"
   ]
  },
  {
   "cell_type": "code",
   "execution_count": null,
   "id": "2e49c132",
   "metadata": {},
   "outputs": [],
   "source": []
  },
  {
   "cell_type": "markdown",
   "id": "eb05e8cb",
   "metadata": {},
   "source": [
    "#### 23. Отфильтровать dataframe по признаку"
   ]
  },
  {
   "cell_type": "code",
   "execution_count": null,
   "id": "dc4b9816",
   "metadata": {},
   "outputs": [],
   "source": []
  },
  {
   "cell_type": "markdown",
   "id": "a7e1e7c5",
   "metadata": {},
   "source": [
    "#### 24. Вывести средний возраст пассажиров"
   ]
  },
  {
   "cell_type": "code",
   "execution_count": null,
   "id": "659a057a",
   "metadata": {},
   "outputs": [],
   "source": []
  },
  {
   "cell_type": "markdown",
   "id": "ef34dfb9",
   "metadata": {},
   "source": [
    "#### 25. Вывести уникальные значения класса с количеством значений"
   ]
  },
  {
   "cell_type": "code",
   "execution_count": null,
   "id": "be8489d3",
   "metadata": {},
   "outputs": [],
   "source": []
  },
  {
   "cell_type": "markdown",
   "id": "ec79ba5d",
   "metadata": {},
   "source": [
    "#### 26. Выбрать первые 5 колонок"
   ]
  },
  {
   "cell_type": "code",
   "execution_count": null,
   "id": "d6d84e08",
   "metadata": {},
   "outputs": [],
   "source": []
  },
  {
   "cell_type": "markdown",
   "id": "a6aa9c6b",
   "metadata": {},
   "source": [
    "#### 27. Выбрать пассажиров чей возраст больше 40"
   ]
  },
  {
   "cell_type": "code",
   "execution_count": null,
   "id": "573d21ba",
   "metadata": {},
   "outputs": [],
   "source": []
  }
 ],
 "metadata": {
  "kernelspec": {
   "display_name": "Python 3 (ipykernel)",
   "language": "python",
   "name": "python3"
  },
  "language_info": {
   "codemirror_mode": {
    "name": "ipython",
    "version": 3
   },
   "file_extension": ".py",
   "mimetype": "text/x-python",
   "name": "python",
   "nbconvert_exporter": "python",
   "pygments_lexer": "ipython3",
   "version": "3.10.6"
  }
 },
 "nbformat": 4,
 "nbformat_minor": 5
}
